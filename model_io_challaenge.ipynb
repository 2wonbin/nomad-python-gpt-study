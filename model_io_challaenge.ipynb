{
 "cells": [
  {
   "cell_type": "code",
   "execution_count": 3,
   "metadata": {},
   "outputs": [
    {
     "name": "stdout",
     "output_type": "stream",
     "text": [
      "I'm sorry, but as of now, there is no movie titled \"Oppenheimer\" scheduled for release in 2023. It's possible that the information may not be available yet or the title may have changed. If you have any other movie in mind, feel free to ask!"
     ]
    },
    {
     "data": {
      "text/plain": [
       "AIMessageChunk(content='I\\'m sorry, but as of now, there is no movie titled \"Oppenheimer\" scheduled for release in 2023. It\\'s possible that the information may not be available yet or the title may have changed. If you have any other movie in mind, feel free to ask!')"
      ]
     },
     "execution_count": 3,
     "metadata": {},
     "output_type": "execute_result"
    }
   ],
   "source": [
    "from langchain.chat_models import ChatOpenAI\n",
    "from langchain.prompts.few_shot import FewShotChatMessagePromptTemplate\n",
    "from langchain.callbacks import StreamingStdOutCallbackHandler\n",
    "from langchain.prompts import ChatMessagePromptTemplate, ChatPromptTemplate\n",
    "\n",
    "chat = ChatOpenAI(\n",
    "    temperature=0.1,\n",
    "    streaming=True,\n",
    "    callbacks=[\n",
    "        StreamingStdOutCallbackHandler(),\n",
    "    ],\n",
    ")\n",
    "\n",
    "examples = [\n",
    "    {\n",
    "        \"movie_title\": \"2001: A Space Odyssey\",\n",
    "        \"answer\": \"\"\"\n",
    "        Director: Stanley Kubrick\n",
    "        Stars: Keir Dullea, Gary Lockwood\n",
    "        budget: $10.5 million\n",
    "        revenue: $146 million\n",
    "        genre: Science Fiction\n",
    "        synopsis: Humanity finds a mysterious, obviously artificial object buried beneath the Lunar surface and, with the intelligent computer H.A.L. 9000, sets off on a quest.\n",
    "        \"\"\",\n",
    "    },\n",
    "    {\n",
    "        \"movie_title\": \"The Shawshank Redemption\",\n",
    "        \"answer\": \"\"\"\n",
    "        Director: Frank Darabont\n",
    "        Stars: Tim Robbins, Morgan Freeman\n",
    "        budget: $25 million\n",
    "        revenue: $58.3 million\n",
    "        genre: Drama\n",
    "        synopsis: A banker is wrongly imprisoned for his wife’s murder. Over 19 years, he forms a friendship with a fellow inmate and plans a daring escape.\n",
    "        \"\"\",\n",
    "    },\n",
    "    {\n",
    "        \"movie_title\": \"The dark knight\",\n",
    "        \"answer\": \"\"\"\n",
    "        Director: Christopher Nolan,\n",
    "        Stars: Christian Bale, Heath Ledger, Aaron Eckhart,\n",
    "        budget: \"185 million,\n",
    "        revenue: \"1.005 billion,\n",
    "        genre: Action, Crime, Drama,\n",
    "        synopsis: Batman faces his greatest challenge yet as the Joker unleashes chaos on Gotham City, forcing him to confront his own moral boundaries.\n",
    "        \"\"\"\n",
    "    },\n",
    "]\n",
    "\n",
    "example_prompt = ChatPromptTemplate.from_messages(\n",
    "    [\n",
    "        (\"human\", \"Tell me about {movie_title}.\"),\n",
    "        (\"ai\", \"{answer}\")\n",
    "    ]\n",
    ")\n",
    "\n",
    "example_prompt = FewShotChatMessagePromptTemplate(\n",
    "    example_prompt=example_prompt,\n",
    "    examples= examples,\n",
    ")\n",
    "\n",
    "final_prompt = ChatPromptTemplate.from_messages([\n",
    "    (\"system\", \"You are a movie genius, you always give me correct answer.\"),\n",
    "    example_prompt,\n",
    "    (\"human\", \"Tell me about {movie_title}.\")\n",
    "])\n",
    "\n",
    "chain = final_prompt | chat\n",
    "\n",
    "chain.invoke({\n",
    "    \"movie_title\": \"parasite(2019)\"\n",
    "})\n"
   ]
  }
 ],
 "metadata": {
  "kernelspec": {
   "display_name": "env",
   "language": "python",
   "name": "python3"
  },
  "language_info": {
   "codemirror_mode": {
    "name": "ipython",
    "version": 3
   },
   "file_extension": ".py",
   "mimetype": "text/x-python",
   "name": "python",
   "nbconvert_exporter": "python",
   "pygments_lexer": "ipython3",
   "version": "3.11.1"
  }
 },
 "nbformat": 4,
 "nbformat_minor": 2
}
