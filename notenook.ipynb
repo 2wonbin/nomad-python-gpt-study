{
 "cells": [
  {
   "cell_type": "code",
   "execution_count": 27,
   "metadata": {},
   "outputs": [
    {
     "name": "stdout",
     "output_type": "stream",
     "text": [
      "파이썬 코드가 춤을 추네\n",
      "들여다보면 마치 예술의 향기를 맡네\n",
      "\n",
      "들여다보면 마법같은 문법\n",
      "한 줄 한 줄이 모두가 아름다워\n",
      "\n",
      "들여다보면 세상을 바꾸는 힘\n",
      "작은 프로그램이 큰 변화를 일으켜\n",
      "\n",
      "파이썬이여, 너의 아름다움에 빠져\n",
      "세상을 밝게 비추는 빛이 되어줘.주어진 시는 파이썬이라는 프로그래밍 언어를 아름답고 마법 같은 존재로 표현한 내용을 담고 있습니다. 시인은 파이썬 코드를 춤을 추는 것으로 묘사하며, 코드의 문법을 마법 같은 것으로 표현하여 프로그래밍의 아름다움을 감상하고 있습니다. 또한, 작은 프로그램이 큰 변화를 일으키는 힘을 감지하며 파이썬이 세상을 밝게 비추는 빛이 되어줄 것을 바라는 마음을 담고 있습니다.\n",
      "\n",
      "이 시는 공학적인 주제인 프로그래밍을 문학적인 표현으로 다가가며, 기술과 예술이 만나는 아름다움을 담고 있습니다. 프로그래밍을 통해 세상을 변화시키는 힘을 감지하고, 그 아름다움에 빠져들고자 하는 시인의 열정이 느껴집니다. 이러한 창의적이고 독특한 시는 공학과 예술을 연결짓는 멋진 작품으로 평가될 수 있습니다."
     ]
    },
    {
     "data": {
      "text/plain": [
       "AIMessageChunk(content='주어진 시는 파이썬이라는 프로그래밍 언어를 아름답고 마법 같은 존재로 표현한 내용을 담고 있습니다. 시인은 파이썬 코드를 춤을 추는 것으로 묘사하며, 코드의 문법을 마법 같은 것으로 표현하여 프로그래밍의 아름다움을 감상하고 있습니다. 또한, 작은 프로그램이 큰 변화를 일으키는 힘을 감지하며 파이썬이 세상을 밝게 비추는 빛이 되어줄 것을 바라는 마음을 담고 있습니다.\\n\\n이 시는 공학적인 주제인 프로그래밍을 문학적인 표현으로 다가가며, 기술과 예술이 만나는 아름다움을 담고 있습니다. 프로그래밍을 통해 세상을 변화시키는 힘을 감지하고, 그 아름다움에 빠져들고자 하는 시인의 열정이 느껴집니다. 이러한 창의적이고 독특한 시는 공학과 예술을 연결짓는 멋진 작품으로 평가될 수 있습니다.')"
      ]
     },
     "execution_count": 27,
     "metadata": {},
     "output_type": "execute_result"
    }
   ],
   "source": [
    "from langchain.chat_models import ChatOpenAI\n",
    "from langchain.prompts import ChatPromptTemplate\n",
    "from langchain.callbacks import StreamingStdOutCallbackHandler\n",
    "\n",
    "chat = ChatOpenAI(model_name=\"gpt-3.5-turbo\", temperature=0.1, streaming=True, callbacks=[StreamingStdOutCallbackHandler()])\n",
    "\n",
    "poet_template = ChatPromptTemplate.from_messages([\n",
    "    (\"system\", \"당신은 시인입니다. 평소 엉뚱한 성품을 지닌 당신은 프로그래밍 언어에 대하여 시를 쓰는 걸로 많은 사람들에게 알려져있습니다. \"),\n",
    "    (\"human\", \"{language} 를 소재로 시를 써주세요.\"),\n",
    "])\n",
    "\n",
    "poet_chain = poet_template | chat \n",
    "\n",
    "critic_template = ChatPromptTemplate.from_messages([\n",
    "    (\"system\", \"당신은 문학 평론가입니다. 특히 시에 대하여 많은 지식을 가지고 있습니다. 특히 공학적인 시에 대하여 많은 관심을 가지고 있습니다. \"), \n",
    "    (\"human\", \"{poem} 에 대하여 평가를 해주세요.\"),\n",
    "    ])\n",
    "\n",
    "critic_chain = critic_template | chat\n",
    "\n",
    "final_chain = {\"poem\": poet_chain} | critic_chain\n",
    "\n",
    "final_chain.invoke({\n",
    "    \"language\": \"python\",\n",
    "})\n",
    "\n",
    "\n"
   ]
  }
 ],
 "metadata": {
  "kernelspec": {
   "display_name": "env",
   "language": "python",
   "name": "python3"
  },
  "language_info": {
   "codemirror_mode": {
    "name": "ipython",
    "version": 3
   },
   "file_extension": ".py",
   "mimetype": "text/x-python",
   "name": "python",
   "nbconvert_exporter": "python",
   "pygments_lexer": "ipython3",
   "version": "3.11.1"
  }
 },
 "nbformat": 4,
 "nbformat_minor": 2
}
