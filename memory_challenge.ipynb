{
 "cells": [
  {
   "cell_type": "code",
   "execution_count": 13,
   "metadata": {},
   "outputs": [
    {
     "name": "stdout",
     "output_type": "stream",
     "text": [
      "\"나홀로집에\" -> \"🏠👦🎄\"\n",
      "\"인셉션\" -> \"🧠💭🌌\"\n",
      "\"아바타\" -> \"🌿🌎💧\"\n"
     ]
    }
   ],
   "source": [
    "from langchain.chat_models import ChatOpenAI\n",
    "from langchain.memory import ConversationSummaryBufferMemory\n",
    "from langchain.prompts import FewShotChatMessagePromptTemplate, ChatPromptTemplate, MessagesPlaceholder\n",
    "from langchain.schema.runnable import RunnablePassthrough\n",
    "\n",
    "llm = ChatOpenAI(model=\"gpt-3.5-turbo\", temperature=0.1)\n",
    "\n",
    "memory = ConversationSummaryBufferMemory(\n",
    "    llm=llm,\n",
    "    max_token_limit=1000,\n",
    "    return_messages=True,\n",
    "    memory_key=\"history\",\n",
    ")\n",
    "\n",
    "\n",
    "examples = [\n",
    "    {\n",
    "        \"movie_title\": \"탑건\",\n",
    "        \"answer\": \"\"\"\n",
    "        \"탑건\" -> \"🛩️👨‍✈️🔥\",\n",
    "        \"\"\",\n",
    "    },\n",
    "    {\n",
    "        \"movie_title\": \"대부\",\n",
    "        \"answer\": \"\"\"\n",
    "            \"대부\" -> \"👨‍👨‍👦🔫🍝\",\n",
    "        \"\"\",\n",
    "    },\n",
    "]\n",
    "\n",
    "example_prompt = ChatPromptTemplate.from_messages(\n",
    "    [(\"human\", \"Make a imoji based on the movie titled {movie_title}\"), (\"ai\", \"{answer}\")]\n",
    ")\n",
    "\n",
    "example_prompt = FewShotChatMessagePromptTemplate(\n",
    "    examples=examples,\n",
    "    example_prompt=example_prompt,\n",
    ")\n",
    "\n",
    "final_prompt = ChatPromptTemplate.from_messages(\n",
    "    [\n",
    "        (\"system\", \"Let's make some imojis based on the movie titles. if you know the movie I asked, just use 3 emojis.\" ),\n",
    "        example_prompt,\n",
    "        MessagesPlaceholder(variable_name=\"history\"),\n",
    "        (\"human\", \"Ok, let's make some more imojis based on the {movie_title}\"),\n",
    "    ]\n",
    ")\n",
    "\n",
    "\n",
    "def load_memory(_):\n",
    "    return memory.load_memory_variables({})[\"history\"]\n",
    "\n",
    "\n",
    "chain = RunnablePassthrough.assign(history=load_memory) | final_prompt | llm\n",
    "\n",
    "\n",
    "def invoke_chain(movie_title):\n",
    "    result = chain.invoke({\"movie_title\": movie_title})\n",
    "    memory.save_context(\n",
    "        {\"input\": movie_title},\n",
    "        {\"output\": result.content},\n",
    "    )\n",
    "    print(result.content)\n",
    "\n",
    "invoke_chain(\"나홀로집에\")\n",
    "\n",
    "invoke_chain(\"인셉션\")\n",
    "\n",
    "invoke_chain(\"아바타\")"
   ]
  },
  {
   "cell_type": "code",
   "execution_count": 14,
   "metadata": {},
   "outputs": [
    {
     "name": "stdout",
     "output_type": "stream",
     "text": [
      "Sure! Here are the emojis based on the previously asked movie titles:\n",
      "\n",
      "- \"탑건\" -> \"🛩️👨‍✈️🔥\"\n",
      "- \"대부\" -> \"👨‍👨‍👦🔫🍝\"\n",
      "- \"나홀로집에\" -> \"🏠👦🎄\"\n",
      "- \"인셉션\" -> \"🧠💭🌌\"\n",
      "- \"아바타\" -> \"🌿🌎💧\"\n"
     ]
    }
   ],
   "source": [
    "invoke_chain(\"이전에 어떤 영화를 물어봤었지?\")"
   ]
  }
 ],
 "metadata": {
  "kernelspec": {
   "display_name": "env",
   "language": "python",
   "name": "python3"
  },
  "language_info": {
   "codemirror_mode": {
    "name": "ipython",
    "version": 3
   },
   "file_extension": ".py",
   "mimetype": "text/x-python",
   "name": "python",
   "nbconvert_exporter": "python",
   "pygments_lexer": "ipython3",
   "version": "3.11.1"
  }
 },
 "nbformat": 4,
 "nbformat_minor": 2
}
